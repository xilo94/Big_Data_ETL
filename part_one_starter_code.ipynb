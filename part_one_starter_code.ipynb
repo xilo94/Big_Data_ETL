{
  "cells": [
    {
      "cell_type": "markdown",
      "metadata": {
        "id": "view-in-github",
        "colab_type": "text"
      },
      "source": [
        "<a href=\"https://colab.research.google.com/github/xilo94/Big_Data_ETL/blob/main/part_one_starter_code.ipynb\" target=\"_parent\"><img src=\"https://colab.research.google.com/assets/colab-badge.svg\" alt=\"Open In Colab\"/></a>"
      ]
    },
    {
      "cell_type": "code",
      "execution_count": 1,
      "metadata": {
        "id": "-8eFW_wl1n39",
        "colab": {
          "base_uri": "https://localhost:8080/"
        },
        "outputId": "fedec901-10df-469e-b25e-2bda5a6cb651"
      },
      "outputs": [
        {
          "output_type": "stream",
          "name": "stdout",
          "text": [
            "\r0% [Working]\r            \rGet:1 https://cloud.r-project.org/bin/linux/ubuntu bionic-cran40/ InRelease [3,626 B]\n",
            "\r0% [Connecting to archive.ubuntu.com] [Connecting to security.ubuntu.com] [1 In\r0% [Connecting to archive.ubuntu.com] [Connecting to security.ubuntu.com] [Wait\r                                                                               \rIgn:2 https://developer.download.nvidia.com/compute/machine-learning/repos/ubuntu1804/x86_64  InRelease\n",
            "\r                                                                               \rHit:3 https://developer.download.nvidia.com/compute/cuda/repos/ubuntu1804/x86_64  InRelease\n",
            "Hit:4 https://developer.download.nvidia.com/compute/machine-learning/repos/ubuntu1804/x86_64  Release\n",
            "Get:5 http://ppa.launchpad.net/c2d4u.team/c2d4u4.0+/ubuntu bionic InRelease [15.9 kB]\n",
            "Get:6 http://security.ubuntu.com/ubuntu bionic-security InRelease [88.7 kB]\n",
            "Hit:7 http://archive.ubuntu.com/ubuntu bionic InRelease\n",
            "Get:8 http://archive.ubuntu.com/ubuntu bionic-updates InRelease [88.7 kB]\n",
            "Hit:9 http://ppa.launchpad.net/cran/libgit2/ubuntu bionic InRelease\n",
            "Hit:11 http://ppa.launchpad.net/deadsnakes/ppa/ubuntu bionic InRelease\n",
            "Get:12 http://archive.ubuntu.com/ubuntu bionic-backports InRelease [83.3 kB]\n",
            "Hit:13 http://ppa.launchpad.net/graphics-drivers/ppa/ubuntu bionic InRelease\n",
            "Get:14 http://ppa.launchpad.net/c2d4u.team/c2d4u4.0+/ubuntu bionic/main Sources [2,235 kB]\n",
            "Get:15 http://ppa.launchpad.net/c2d4u.team/c2d4u4.0+/ubuntu bionic/main amd64 Packages [1,143 kB]\n",
            "Fetched 3,659 kB in 4s (824 kB/s)\n",
            "Reading package lists... Done\n"
          ]
        }
      ],
      "source": [
        "# Activate Spark in our Colab notebook.\n",
        "import os\n",
        "# Find the latest version of spark 3.2  from http://www.apache.org/dist/spark/ and enter as the spark version\n",
        "# For example:\n",
        "# spark_version = 'spark-3.2.2'\n",
        "spark_version = 'spark-3.2.3'\n",
        "os.environ['SPARK_VERSION']=spark_version\n",
        "\n",
        "# Install Spark and Java\n",
        "!apt-get update\n",
        "!apt-get install openjdk-11-jdk-headless -qq > /dev/null\n",
        "!wget -q http://www.apache.org/dist/spark/$SPARK_VERSION/$SPARK_VERSION-bin-hadoop2.7.tgz\n",
        "!tar xf $SPARK_VERSION-bin-hadoop2.7.tgz\n",
        "!pip install -q findspark\n",
        "\n",
        "# Set Environment Variables\n",
        "import os\n",
        "os.environ[\"JAVA_HOME\"] = \"/usr/lib/jvm/java-11-openjdk-amd64\"\n",
        "os.environ[\"SPARK_HOME\"] = f\"/content/{spark_version}-bin-hadoop2.7\"\n",
        "\n",
        "# Start a SparkSession\n",
        "import findspark\n",
        "findspark.init()"
      ]
    },
    {
      "cell_type": "code",
      "execution_count": 2,
      "metadata": {
        "id": "BzCrgs0Z1rnw",
        "colab": {
          "base_uri": "https://localhost:8080/"
        },
        "outputId": "8fd49a55-1e13-411a-bdce-02f48c7c0132"
      },
      "outputs": [
        {
          "output_type": "stream",
          "name": "stdout",
          "text": [
            "--2022-12-23 18:08:27--  https://jdbc.postgresql.org/download/postgresql-42.2.9.jar\n",
            "Resolving jdbc.postgresql.org (jdbc.postgresql.org)... 72.32.157.228, 2001:4800:3e1:1::228\n",
            "Connecting to jdbc.postgresql.org (jdbc.postgresql.org)|72.32.157.228|:443... connected.\n",
            "HTTP request sent, awaiting response... 200 OK\n",
            "Length: 914037 (893K) [application/java-archive]\n",
            "Saving to: ‘postgresql-42.2.9.jar’\n",
            "\n",
            "postgresql-42.2.9.j 100%[===================>] 892.61K  5.50MB/s    in 0.2s    \n",
            "\n",
            "2022-12-23 18:08:27 (5.50 MB/s) - ‘postgresql-42.2.9.jar’ saved [914037/914037]\n",
            "\n"
          ]
        }
      ],
      "source": [
        "# Get postgresql package\n",
        "!wget https://jdbc.postgresql.org/download/postgresql-42.2.9.jar"
      ]
    },
    {
      "cell_type": "code",
      "execution_count": 3,
      "metadata": {
        "id": "0DuBth0V2PR8"
      },
      "outputs": [],
      "source": [
        "# Import Spark and create a SparkSession\n",
        "from pyspark.sql import SparkSession\n",
        "spark = SparkSession.builder.appName(\"BigData-HW-1\").config(\"spark.driver.extraClassPath\",\"/content/postgresql-42.2.9.jar\").getOrCreate()"
      ]
    },
    {
      "cell_type": "markdown",
      "metadata": {
        "id": "D3W2XJVi2CU-"
      },
      "source": [
        "# Extract the Amazon Data into Spark DataFrame"
      ]
    },
    {
      "cell_type": "code",
      "execution_count": 4,
      "metadata": {
        "id": "Na_stw7b1wfU"
      },
      "outputs": [],
      "source": [
        "# Read in the data from an S3 Bucket\n",
        "from pyspark import SparkFiles\n",
        "\n",
        "# Read in data from S3 Buckets\n",
        "from pyspark import SparkFiles\n",
        "url = \"https://bigetlxm.s3.amazonaws.com/amazon_reviews_us_Personal_Care_Appliances_v1_00.tsv\"\n",
        "spark.sparkContext.addFile(url)\n",
        "\n",
        "# df = spark.read.format(\"tsv\").option(\"header\", \"true\").load(\"csvfile.csv\")\n",
        "\n",
        "userdf = spark.read.csv(SparkFiles.get(\"amazon_reviews_us_Personal_Care_Appliances_v1_00.tsv\"), sep=\"\\t\", header=True, inferSchema=True)\n",
        "\n",
        "\n"
      ]
    },
    {
      "cell_type": "code",
      "execution_count": 5,
      "metadata": {
        "id": "Cayz-3Q52IM3",
        "colab": {
          "base_uri": "https://localhost:8080/"
        },
        "outputId": "0ae9f5f3-b06d-4d7c-e53b-dfc32ea3395f"
      },
      "outputs": [
        {
          "output_type": "stream",
          "name": "stdout",
          "text": [
            "+-----------+-----------+--------------+----------+--------------+--------------------+--------------------+-----------+-------------+-----------+----+-----------------+--------------------+--------------------+-----------+\n",
            "|marketplace|customer_id|     review_id|product_id|product_parent|       product_title|    product_category|star_rating|helpful_votes|total_votes|vine|verified_purchase|     review_headline|         review_body|review_date|\n",
            "+-----------+-----------+--------------+----------+--------------+--------------------+--------------------+-----------+-------------+-----------+----+-----------------+--------------------+--------------------+-----------+\n",
            "|         US|   32114233|R1QX6706ZWJ1P5|B00OYRW4UE|     223980852|Elite Sportz Exer...|Personal_Care_App...|          5|            0|          0|   N|                Y|Good quality. Shi...|Exactly as descri...| 2015-08-31|\n",
            "|         US|   18125776|R3QWMLJHIW6P37|B0000537JQ|     819771537|     Ezy Dose Weekly|Personal_Care_App...|          5|            0|          0|   N|                Y|          Five Stars|         It is great| 2015-08-31|\n",
            "|         US|   19917519|R14Z1VR1N0Z9G6|B00HXXO332|     849307176|Pulse Oximeter, B...|Personal_Care_App...|          5|            1|          1|   N|                Y|It's really nice ...|It's really nice ...| 2015-08-31|\n",
            "|         US|   18277171| R25ZRJL0GH0U0|B00EOB0JA2|     700864740|SE Tools Tool Kit...|Personal_Care_App...|          2|            0|          0|   N|                Y|           Two Stars|The kit works fin...| 2015-08-31|\n",
            "|         US|    2593270|R3837KYH7AZNIY|B00OC2O1UC|     794298839|doTERRA HD Clear ...|Personal_Care_App...|          4|            0|          1|   N|                Y|          Four Stars|It works better t...| 2015-08-31|\n",
            "|         US|    2592955|R2MN0QYCY6EVIV|B00HES9CMS|     318730927|Viva Naturals #1 ...|Personal_Care_App...|          5|            0|          0|   N|                Y|      not bad at all|I added to my oat...| 2015-08-31|\n",
            "|         US|   15168265|R3AN2UJ1D42ZS0|B0016BFR4G|     887476137|Uncle Lee's Organ...|Personal_Care_App...|          5|            0|          0|   N|                Y|Mild, enjoyable t...|Husband drinks th...| 2015-08-31|\n",
            "|         US|   13761624|R3U29ZLUWEEK4M|B00K504UUG|     458706868|Syrtenty Electrod...|Personal_Care_App...|          5|            0|          0|   N|                Y|          Five Stars|       Good quality.| 2015-08-31|\n",
            "|         US|   37070734|R16ZDMJJHK796C|B00HES9CMS|     318730927|Viva Naturals #1 ...|Personal_Care_App...|          5|            0|          0|   N|                N|        High Quality|This is high qual...| 2015-08-31|\n",
            "|         US|   29615023| RRRDOEJZD1Y22|B00P6TUO5G|     170248843|Viva Naturals Org...|Personal_Care_App...|          4|            0|          0|   N|                Y|          we like it|Buying more produ...| 2015-08-31|\n",
            "|         US|   47893062|R2KR5ZEAS859DK|B0006VJ6TO|     412568457|Body Back Company...|Personal_Care_App...|          5|            0|          0|   N|                Y|          Five Stars|    Their best cane.| 2015-08-31|\n",
            "|         US|    2582596| RR7PGQY763IHF|B00H9L7VIW|     851045898|boostULTIMATE - 6...|Personal_Care_App...|          5|            0|          0|   N|                Y|       Great product|Great product! Ma...| 2015-08-31|\n",
            "|         US|   21969415| RN37YYZBP9BMP|B00P1JNZUW|     274294586|doTERRA Veráge Sk...|Personal_Care_App...|          5|            4|          4|   N|                Y|Love the prouduct...|Love the prouduct...| 2015-08-31|\n",
            "|         US|   43153609| R1UXGB70OR5TW|B00N5HD340|     955577225|      Straight Razor|Personal_Care_App...|          5|            0|          0|   N|                Y|          Five Stars|          great buy.| 2015-08-31|\n",
            "|         US|   17782951|R1OC5ZNXSGO7P1|B0007DHMVK|      78719480|BONGER Massage To...|Personal_Care_App...|          5|            0|          0|   N|                Y|          Five stars|These are so much...| 2015-08-31|\n",
            "|         US|   13710264|R1W4ZN8BPVNWK3|B0002JG2NI|     900996767|Home Health Casto...|Personal_Care_App...|          5|            0|          0|   N|                Y|It works for home...|It works for home...| 2015-08-31|\n",
            "|         US|   30720884|R2KE33CNN5X2B0|B00OYRW4UE|     223980852|Elite Sportz Exer...|Personal_Care_App...|          5|            0|          0|   N|                Y|These work great ...|These work great ...| 2015-08-31|\n",
            "|         US|   35206254|R1A26EDSO0U5N6|B00598WT0C|     218203731|Aloha Eyewear “St...|Personal_Care_App...|          5|            0|          0|   N|                Y|             awesome|for anyone needin...| 2015-08-31|\n",
            "|         US|   10261156|R3L81GOHVS3E9P|B0006VJ6TO|     412568457|Body Back Company...|Personal_Care_App...|          5|            0|          0|   N|                Y| Deep tissue massage|This works perfec...| 2015-08-31|\n",
            "|         US|   50708344| RNFW9SWC5D0YF|B00J7G96NK|     256041044|Oral B Glide Flos...|Personal_Care_App...|          5|            2|          2|   N|                N|These are an esse...|Not only are thes...| 2015-08-31|\n",
            "+-----------+-----------+--------------+----------+--------------+--------------------+--------------------+-----------+-------------+-----------+----+-----------------+--------------------+--------------------+-----------+\n",
            "only showing top 20 rows\n",
            "\n"
          ]
        }
      ],
      "source": [
        "# Get the number of rows in the DataFrame.\n",
        "# Show DataFrame\n",
        "userdf.show()"
      ]
    },
    {
      "cell_type": "markdown",
      "metadata": {
        "id": "C9U0rkGZ2eu7"
      },
      "source": [
        "# Transform the Data"
      ]
    },
    {
      "cell_type": "code",
      "source": [],
      "metadata": {
        "id": "KRpkw_oLVedk"
      },
      "execution_count": 5,
      "outputs": []
    },
    {
      "cell_type": "markdown",
      "source": [
        "## Create the \"review_id_table\"."
      ],
      "metadata": {
        "id": "dUoftWoKtM_c"
      }
    },
    {
      "cell_type": "code",
      "execution_count": 6,
      "metadata": {
        "id": "2tMYkSIk2d-m",
        "colab": {
          "base_uri": "https://localhost:8080/"
        },
        "outputId": "ef0334fb-e98e-4dd0-e1f2-43f4cbddad88"
      },
      "outputs": [
        {
          "output_type": "stream",
          "name": "stdout",
          "text": [
            "+-----------+-----------+--------------+--------------------+-----------+\n",
            "|marketplace|customer_id|     review_id|     review_headline|review_date|\n",
            "+-----------+-----------+--------------+--------------------+-----------+\n",
            "|         US|   32114233|R1QX6706ZWJ1P5|Good quality. Shi...| 2015-08-31|\n",
            "|         US|   18125776|R3QWMLJHIW6P37|          Five Stars| 2015-08-31|\n",
            "|         US|   19917519|R14Z1VR1N0Z9G6|It's really nice ...| 2015-08-31|\n",
            "|         US|   18277171| R25ZRJL0GH0U0|           Two Stars| 2015-08-31|\n",
            "|         US|    2593270|R3837KYH7AZNIY|          Four Stars| 2015-08-31|\n",
            "|         US|    2592955|R2MN0QYCY6EVIV|      not bad at all| 2015-08-31|\n",
            "|         US|   15168265|R3AN2UJ1D42ZS0|Mild, enjoyable t...| 2015-08-31|\n",
            "|         US|   13761624|R3U29ZLUWEEK4M|          Five Stars| 2015-08-31|\n",
            "|         US|   37070734|R16ZDMJJHK796C|        High Quality| 2015-08-31|\n",
            "|         US|   29615023| RRRDOEJZD1Y22|          we like it| 2015-08-31|\n",
            "|         US|   47893062|R2KR5ZEAS859DK|          Five Stars| 2015-08-31|\n",
            "|         US|    2582596| RR7PGQY763IHF|       Great product| 2015-08-31|\n",
            "|         US|   21969415| RN37YYZBP9BMP|Love the prouduct...| 2015-08-31|\n",
            "|         US|   43153609| R1UXGB70OR5TW|          Five Stars| 2015-08-31|\n",
            "|         US|   17782951|R1OC5ZNXSGO7P1|          Five stars| 2015-08-31|\n",
            "|         US|   13710264|R1W4ZN8BPVNWK3|It works for home...| 2015-08-31|\n",
            "|         US|   30720884|R2KE33CNN5X2B0|These work great ...| 2015-08-31|\n",
            "|         US|   35206254|R1A26EDSO0U5N6|             awesome| 2015-08-31|\n",
            "|         US|   10261156|R3L81GOHVS3E9P| Deep tissue massage| 2015-08-31|\n",
            "|         US|   50708344| RNFW9SWC5D0YF|These are an esse...| 2015-08-31|\n",
            "+-----------+-----------+--------------+--------------------+-----------+\n",
            "only showing top 20 rows\n",
            "\n"
          ]
        }
      ],
      "source": [
        "from pyspark.sql.functions import to_date\n",
        "# Create the \"review_id_df\" DataFrame with the appropriate columns and data types.\n",
        "\n",
        "review_id_df = userdf.select(\"marketplace\",\"customer_id\", \"review_id\", \"review_headline\", \"review_date\")\n",
        "\n",
        "review_id_df.show()"
      ]
    },
    {
      "cell_type": "code",
      "source": [
        "review_id_df = review_id_df.dropna() "
      ],
      "metadata": {
        "id": "AWxwuq5RXv_H"
      },
      "execution_count": 7,
      "outputs": []
    },
    {
      "cell_type": "markdown",
      "source": [
        "## Create the \"products\" Table"
      ],
      "metadata": {
        "id": "aAVCFjXhtXO8"
      }
    },
    {
      "cell_type": "code",
      "execution_count": 8,
      "metadata": {
        "id": "g9gTNhT62je4",
        "colab": {
          "base_uri": "https://localhost:8080/"
        },
        "outputId": "ef1df134-3513-43bc-8d45-b5e09539b470"
      },
      "outputs": [
        {
          "output_type": "stream",
          "name": "stdout",
          "text": [
            "+----------+--------------------+\n",
            "|product_id|       product_title|\n",
            "+----------+--------------------+\n",
            "|B00OYRW4UE|Elite Sportz Exer...|\n",
            "|B0000537JQ|     Ezy Dose Weekly|\n",
            "|B00HXXO332|Pulse Oximeter, B...|\n",
            "|B00EOB0JA2|SE Tools Tool Kit...|\n",
            "|B00OC2O1UC|doTERRA HD Clear ...|\n",
            "|B00HES9CMS|Viva Naturals #1 ...|\n",
            "|B0016BFR4G|Uncle Lee's Organ...|\n",
            "|B00K504UUG|Syrtenty Electrod...|\n",
            "|B00HES9CMS|Viva Naturals #1 ...|\n",
            "|B00P6TUO5G|Viva Naturals Org...|\n",
            "|B0006VJ6TO|Body Back Company...|\n",
            "|B00H9L7VIW|boostULTIMATE - 6...|\n",
            "|B00P1JNZUW|doTERRA Veráge Sk...|\n",
            "|B00N5HD340|      Straight Razor|\n",
            "|B0007DHMVK|BONGER Massage To...|\n",
            "|B0002JG2NI|Home Health Casto...|\n",
            "|B00OYRW4UE|Elite Sportz Exer...|\n",
            "|B00598WT0C|Aloha Eyewear “St...|\n",
            "|B0006VJ6TO|Body Back Company...|\n",
            "|B00J7G96NK|Oral B Glide Flos...|\n",
            "+----------+--------------------+\n",
            "only showing top 20 rows\n",
            "\n"
          ]
        }
      ],
      "source": [
        "# Create the \"products_df\" DataFrame that drops the duplicates in the \"product_id\" and \"product_title columns. \n",
        "\n",
        "products_df = userdf.select(\"product_id\", \"product_title\")\n",
        "products_df = products_df.dropna()\n",
        "products_df.show()\n"
      ]
    },
    {
      "cell_type": "markdown",
      "source": [
        "## Create the \"customers\" Table"
      ],
      "metadata": {
        "id": "LJHuZ9zut0e5"
      }
    },
    {
      "cell_type": "code",
      "execution_count": 9,
      "metadata": {
        "id": "_pF2Vf3c2n2O"
      },
      "outputs": [],
      "source": [
        "# Create the \"customers_df\" DataFrame that groups the data on the \"customer_id\" by the number of times a customer reviewed a product. \n",
        "\n",
        "customers_df = userdf.select(\"customer_id\", \"review_id\", \"review_headline\",)\n"
      ]
    },
    {
      "cell_type": "code",
      "source": [
        "# Grouping the data by the customer_id column by the number of times a customer reviewed a product\n",
        "\n",
        "customers_df = customers_df.groupBy('customer_id').agg({\"review_id\": \"count\"})\n",
        "customers_df.show()\n"
      ],
      "metadata": {
        "colab": {
          "base_uri": "https://localhost:8080/"
        },
        "id": "I0yjm4xwZxN9",
        "outputId": "9842c96f-1a66-4fb9-bf0e-34373f5da289"
      },
      "execution_count": 10,
      "outputs": [
        {
          "output_type": "stream",
          "name": "stdout",
          "text": [
            "+-----------+----------------+\n",
            "|customer_id|count(review_id)|\n",
            "+-----------+----------------+\n",
            "|   11160821|               1|\n",
            "|    1099354|               1|\n",
            "|   37200466|               1|\n",
            "|   31581262|               1|\n",
            "|   27596904|               1|\n",
            "|    2405598|               1|\n",
            "|   11229098|               1|\n",
            "|   17237226|               1|\n",
            "|   46000147|               1|\n",
            "|   15234640|               1|\n",
            "|   28937218|               1|\n",
            "|   43920023|               1|\n",
            "|   27954895|               1|\n",
            "|    8269764|               1|\n",
            "|   31689770|               1|\n",
            "|   30117841|               1|\n",
            "|   38591899|               1|\n",
            "|   24557051|               1|\n",
            "|    2780908|               1|\n",
            "|   32466409|               1|\n",
            "+-----------+----------------+\n",
            "only showing top 20 rows\n",
            "\n"
          ]
        }
      ]
    },
    {
      "cell_type": "markdown",
      "source": [
        "## Create the \"vine_table\"."
      ],
      "metadata": {
        "id": "8SbTasxbuXGK"
      }
    },
    {
      "cell_type": "code",
      "execution_count": 11,
      "metadata": {
        "id": "WHQKbmCE2p3Q",
        "colab": {
          "base_uri": "https://localhost:8080/"
        },
        "outputId": "40e59e3d-fabf-4fb4-a31c-5863df3d5f42"
      },
      "outputs": [
        {
          "output_type": "stream",
          "name": "stdout",
          "text": [
            "+--------------+-----------+-------------+-----------+----+\n",
            "|     review_id|star_rating|helpful_votes|total_votes|vine|\n",
            "+--------------+-----------+-------------+-----------+----+\n",
            "|R1QX6706ZWJ1P5|          5|            0|          0|   N|\n",
            "|R3QWMLJHIW6P37|          5|            0|          0|   N|\n",
            "|R14Z1VR1N0Z9G6|          5|            1|          1|   N|\n",
            "| R25ZRJL0GH0U0|          2|            0|          0|   N|\n",
            "|R3837KYH7AZNIY|          4|            0|          1|   N|\n",
            "|R2MN0QYCY6EVIV|          5|            0|          0|   N|\n",
            "|R3AN2UJ1D42ZS0|          5|            0|          0|   N|\n",
            "|R3U29ZLUWEEK4M|          5|            0|          0|   N|\n",
            "|R16ZDMJJHK796C|          5|            0|          0|   N|\n",
            "| RRRDOEJZD1Y22|          4|            0|          0|   N|\n",
            "|R2KR5ZEAS859DK|          5|            0|          0|   N|\n",
            "| RR7PGQY763IHF|          5|            0|          0|   N|\n",
            "| RN37YYZBP9BMP|          5|            4|          4|   N|\n",
            "| R1UXGB70OR5TW|          5|            0|          0|   N|\n",
            "|R1OC5ZNXSGO7P1|          5|            0|          0|   N|\n",
            "|R1W4ZN8BPVNWK3|          5|            0|          0|   N|\n",
            "|R2KE33CNN5X2B0|          5|            0|          0|   N|\n",
            "|R1A26EDSO0U5N6|          5|            0|          0|   N|\n",
            "|R3L81GOHVS3E9P|          5|            0|          0|   N|\n",
            "| RNFW9SWC5D0YF|          5|            2|          2|   N|\n",
            "+--------------+-----------+-------------+-----------+----+\n",
            "only showing top 20 rows\n",
            "\n"
          ]
        }
      ],
      "source": [
        "# Create the \"vine_df\" DataFrame that has the \"review_id\", \"star_rating\", \"helpful_votes\", \"total_votes\", and \"vine\" columns. \n",
        "vine_df = userdf.select([\"review_id\", \"star_rating\", \"helpful_votes\", \"total_votes\", \"vine\"])\n",
        "\n",
        "vine_df.show()"
      ]
    },
    {
      "cell_type": "markdown",
      "metadata": {
        "id": "I8aTsEjZ2s6L"
      },
      "source": [
        "# Load"
      ]
    },
    {
      "cell_type": "code",
      "execution_count": 12,
      "metadata": {
        "id": "W4dzUKfI2vXM"
      },
      "outputs": [],
      "source": [
        "mode = \"append\"\n",
        "jdbc_url=\"jdbc:postgresql://database-1.cyfynzqdeakg.us-east-1.rds.amazonaws.com:5432/postgres\"\n",
        "config = {\"user\":\"postgres\", \"password\": \"postgres\", \"driver\":\"org.postgresql.Driver\"}"
      ]
    },
    {
      "cell_type": "code",
      "execution_count": 13,
      "metadata": {
        "id": "iOxKqMsD2yVs"
      },
      "outputs": [],
      "source": [
        "# Write review_id_df to table in RDS\n",
        "review_id_df.write.jdbc(url=jdbc_url, table='review_id', mode=mode, properties=config)"
      ]
    },
    {
      "cell_type": "code",
      "execution_count": 14,
      "metadata": {
        "id": "pPXyGVE-2yPJ"
      },
      "outputs": [],
      "source": [
        "# Write products_df to table in RDS\n",
        "review_id_df.write.jdbc(url=jdbc_url, table='products_df', mode=mode, properties=config)"
      ]
    },
    {
      "cell_type": "code",
      "execution_count": 15,
      "metadata": {
        "id": "aHbca4zN2yIa"
      },
      "outputs": [],
      "source": [
        "# Write customers_df to table in RDS\n",
        "review_id_df.write.jdbc(url=jdbc_url, table='customers_df', mode=mode, properties=config)"
      ]
    },
    {
      "cell_type": "code",
      "execution_count": 16,
      "metadata": {
        "id": "2HfOFneW2x_F"
      },
      "outputs": [],
      "source": [
        "# Write vine_df to table in RDS\n",
        "review_id_df.write.jdbc(url=jdbc_url, table='vine_df', mode=mode, properties=config)"
      ]
    }
  ],
  "metadata": {
    "colab": {
      "provenance": [],
      "include_colab_link": true
    },
    "kernelspec": {
      "display_name": "Python 3",
      "language": "python",
      "name": "python3"
    },
    "language_info": {
      "codemirror_mode": {
        "name": "ipython",
        "version": 3
      },
      "file_extension": ".py",
      "mimetype": "text/x-python",
      "name": "python",
      "nbconvert_exporter": "python",
      "pygments_lexer": "ipython3",
      "version": "3.8.8"
    }
  },
  "nbformat": 4,
  "nbformat_minor": 0
}